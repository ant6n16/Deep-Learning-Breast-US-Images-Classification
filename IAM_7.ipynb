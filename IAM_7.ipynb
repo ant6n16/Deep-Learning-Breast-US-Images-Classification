{
 "cells": [
  {
   "cell_type": "code",
   "execution_count": 1,
   "metadata": {
    "id": "jnlJvEL5YyBO"
   },
   "outputs": [
    {
     "name": "stdout",
     "output_type": "stream",
     "text": [
      "Init Plugin\n",
      "Init Graph Optimizer\n",
      "Init Kernel\n"
     ]
    }
   ],
   "source": [
    "# Práctica 7: ML US\n",
    "# LIBRERIAS NECESARIAS (si os hacen falta más, debéis añadirlas)\n",
    "\n",
    "import keras\n",
    "import numpy as np\n",
    "import os\n",
    "import skimage\n",
    "from PIL import Image\n",
    "from skimage import measure\n",
    "import cv2\n",
    "from keras.models import Sequential\n",
    "from keras.layers.core import Dense, Activation, Flatten\n",
    "from matplotlib import pyplot as plt\n",
    "from tensorflow.keras import layers, models\n",
    "from tensorflow.keras.preprocessing.image import img_to_array\n",
    "from tensorflow.keras.preprocessing.image import load_img\n",
    "from keras.applications.vgg16 import VGG16\n",
    "from tensorflow.keras.optimizers import *\n",
    "from metricas import *\n"
   ]
  },
  {
   "cell_type": "code",
   "execution_count": 2,
   "metadata": {
    "id": "B6qAtietmEOe"
   },
   "outputs": [],
   "source": [
    "# Definimos algunas funciones que usaremos\n",
    "\"Function to plot learning and loss results from CNN training\"    \n",
    "def Learning_results(results):\n",
    "    plt.figure(figsize=(8, 8))\n",
    "    plt.title(\"Learning curve\")\n",
    "    plt.plot(results.history[\"loss\"], label=\"loss\")\n",
    "    plt.plot(results.history[\"val_loss\"], label=\"val_loss\")\n",
    "    plt.plot(np.argmin(results.history[\"val_loss\"]), np.min(results.history[\"val_loss\"]), marker=\"x\", color=\"r\", label=\"best model\")\n",
    "    plt.xlabel(\"Epochs\")\n",
    "    plt.ylabel(\"log_loss\")\n",
    "    plt.legend();\n",
    "\n",
    "def metricas(Mt_confusion):\n",
    "    \n",
    "    VP = Mt_confusion[0,0]\n",
    "    FP = Mt_confusion[0,1]\n",
    "    FN = Mt_confusion[1,0]\n",
    "    VN = Mt_confusion[1,1]\n",
    "    \n",
    "    Acuraccy = (VP+VN)/(VP+FP+FN+VN)\n",
    "    Sensibilidad = VP/(VP+FN)\n",
    "    Especificidad = VN/(VN+FP)\n",
    "    VPP = VP/(VP+FP) # Valor predictivo positivo\n",
    "    VPN = VN/(VN + FN) # Valor predictivo negativo\n",
    "    F1 = 2*Sensibilidad*VPP / (Sensibilidad+VPP)\n",
    "\n",
    "    print(\"Matriz de confusion: \"+str(Mt_confusion)+\"\\n\")\n",
    "    print(\"Accuracy: \"+str(Acuraccy))\n",
    "    print(\"Sensibilidad: \"+str(Sensibilidad))\n",
    "    print(\"Especificidad: \"+str(Especificidad))\n",
    "    print(\"F1 Score: \"+str(F1))\n",
    "    print(\"Valor Predictivo Positivo: \"+str(VPP))\n",
    "    print(\"Valor Predictivo Negativo: \"+str(VPN))\n"
   ]
  },
  {
   "cell_type": "markdown",
   "metadata": {
    "id": "U4afDZzyZcOz",
    "outputId": "75470774-fda1-4d2c-d1b0-3d25ae35e44e"
   },
   "source": [
    "# CARGAMOS LAS IMÁGENES\n",
    "\n",
    "from google.colab import drive\n",
    "drive.mount('/content/drive')\n",
    "os.chdir('/content/drive/My Drive/Dataset_BUSI_with_GT')\n",
    "from metricas import *\n"
   ]
  },
  {
   "cell_type": "code",
   "execution_count": 3,
   "metadata": {
    "id": "ysqzc7-AZgon"
   },
   "outputs": [],
   "source": [
    "# LAS SIGUIENTES ÓRDENES GUARDAN UN LISTADO DE LAS IMÁGENES DE LOS DIRECTORIOS ORIGINAL Y MÁSCARA. DEBÉIS REPETIRLO PARA TODOS LOS DIRECTORIOS QUE TENÉIS EN P6_IA\n",
    "\n",
    "# Imagenes benignas\n",
    "lista_benignos = os.listdir(os.getcwd()+'/Dataset_BUSI_with_GT/benign/')\n",
    "lista_benignos.sort()\n",
    "\n",
    "# Remove .DS_Store file if exists:\n",
    "if lista_benignos[0] == '.DS_Store':\n",
    "    lista_benignos.pop(0)\n",
    "    \n",
    "\n",
    "# Imagenes malignas\n",
    "lista_malignos = os.listdir(os.getcwd()+'/Dataset_BUSI_with_GT/malignant/')\n",
    "lista_malignos.sort()\n",
    "\n",
    "# Remove .DS_Store file if exists:\n",
    "if lista_malignos[0] == '.DS_Store':\n",
    "    lista_malignos.pop(0)\n",
    "    \n",
    "\n",
    "# Imagenes normales\n",
    "lista_normales = os.listdir(os.getcwd()+'/Dataset_BUSI_with_GT/normal/')\n",
    "lista_normales.sort()\n",
    "\n",
    "# Remove .DS_Store file if exists:\n",
    "if lista_normales[0] == '.DS_Store':\n",
    "    lista_normales.pop(0)\n",
    "\n"
   ]
  },
  {
   "cell_type": "markdown",
   "metadata": {
    "id": "zmpKREoWgdfv"
   },
   "source": [
    "# Extracción y selección de características"
   ]
  },
  {
   "cell_type": "markdown",
   "metadata": {
    "id": "1uSHTx-2gdfx"
   },
   "source": [
    "## En primer lugar extraemos las características seleccionadas"
   ]
  },
  {
   "cell_type": "code",
   "execution_count": 4,
   "metadata": {
    "id": "f_mf0r9rZjFn"
   },
   "outputs": [],
   "source": [
    "# Imágenes benignas\n",
    "Images = []\n",
    "\n",
    "for k1 in lista_benignos:\n",
    "    img = os.getcwd()+'/Dataset_BUSI_with_GT/benign/'+k1\n",
    "    image1 = img_to_array(load_img(img, target_size=(400,400)))\n",
    "    Images.append(image1);\n",
    "\n",
    "for k1 in lista_malignos:\n",
    "    img = os.getcwd()+'/Dataset_BUSI_with_GT/malignant/'+k1\n",
    "    image1 = img_to_array(load_img(img, target_size=(400,400)))\n",
    "    Images.append(image1); \n",
    "\n",
    "for k1 in lista_normales:\n",
    "    img = os.getcwd()+'/Dataset_BUSI_with_GT/normal/'+k1\n",
    "    image1 = img_to_array(load_img(img, target_size=(400,400)))\n",
    "    Images.append(image1); \n"
   ]
  },
  {
   "cell_type": "code",
   "execution_count": 5,
   "metadata": {
    "id": "mHfKC8iw4uWd"
   },
   "outputs": [],
   "source": [
    "# Crear verdad de referencia\n",
    "Y = np.zeros((len(Images),3))\n",
    "\n",
    "idx = list(range(len(lista_benignos)))\n",
    "idx2 = list(range(idx[-1]+1,len(lista_malignos)+idx[-1]+1))\n",
    "idx3 = list(range(idx2[-1]+1,len(lista_normales)+idx2[-1]+1))\n",
    "\n",
    "Y[idx,0] = 1\n",
    "Y[idx2,1] = 1\n",
    "Y[idx3,2] = 1\n"
   ]
  },
  {
   "cell_type": "code",
   "execution_count": 6,
   "metadata": {
    "id": "XOvk4_B94uWe"
   },
   "outputs": [],
   "source": [
    "# Separar conjuntos de entrenamiento, validacion y test\n",
    "#Images_aux = np.zeros((len(Images),Images[0].shape[0], Images[0].shape[1],3))\n",
    "\n",
    "for k1 in range(len(Images)):\n",
    "\n",
    "    cropnorm = np.array(Images[k1], dtype=np.float32)\n",
    "    \n",
    "    # Normalizamos para tener la imagen en el rango [0,1]\n",
    "    cropnorm = cropnorm - cropnorm.min() \n",
    "    cropnorm = cropnorm / cropnorm.max()\n",
    "    \n",
    "    # Almacenamos el crop normaizado\n",
    "    Images[k1] = np.reshape(cropnorm,(400,400,3))\n",
    "\n",
    "np.random.seed(71)\n",
    "idxTrain = np.random.permutation(len(np.array(Images)))\n",
    "Images = np.array(Images)[idxTrain,:,:,:]\n",
    "Y = Y[idxTrain,:]\n",
    "\n",
    "th1 = int(.7*(len(Y)))\n",
    "th2 = int(.9*(len(Y)))\n",
    "\n",
    "# Generate train, validation and test sets:\n",
    "X_train = np.array(Images[0:th1], dtype=np.float32)\n",
    "X_valid = np.array(Images[th1+1:th2], dtype=np.float32)\n",
    "X_test = np.array(Images[th2+1:len(Images)], dtype=np.float32)\n",
    "Y_train = np.array(Y[0:th1], dtype=np.float32)\n",
    "Y_valid = np.array(Y[th1+1:th2], dtype=np.float32)\n",
    "Y_test = np.array(Y[th2+1:len(Y)], dtype=np.float32)\n",
    "del Images, Y\n"
   ]
  },
  {
   "cell_type": "code",
   "execution_count": 8,
   "metadata": {
    "colab": {
     "base_uri": "https://localhost:8080/"
    },
    "id": "g9oaZyJE4uWe",
    "outputId": "06924945-f647-4474-9e45-abf592380bcc",
    "scrolled": true
   },
   "outputs": [
    {
     "name": "stdout",
     "output_type": "stream",
     "text": [
      "Model: \"sequential\"\n",
      "_________________________________________________________________\n",
      "Layer (type)                 Output Shape              Param #   \n",
      "=================================================================\n",
      "module_wrapper (ModuleWrappe (None, 12, 12, 512)       14714688  \n",
      "_________________________________________________________________\n",
      "module_wrapper_1 (ModuleWrap (None, 73728)             0         \n",
      "_________________________________________________________________\n",
      "dropout (Dropout)            (None, 73728)             0         \n",
      "_________________________________________________________________\n",
      "dense (Dense)                (None, 3)                 221187    \n",
      "=================================================================\n",
      "Total params: 14,935,875\n",
      "Trainable params: 221,187\n",
      "Non-trainable params: 14,714,688\n",
      "_________________________________________________________________\n"
     ]
    }
   ],
   "source": [
    "base_model = VGG16(include_top=False, weights=\"imagenet\", input_tensor=None, input_shape=(None),pooling=None, classes=3, classifier_activation=\"softmax\")\n",
    "base_model.trainable = False\n",
    "\n",
    "model = models.Sequential([base_model])\n",
    "model.add(Flatten())\n",
    "#model.add(layers.Dense(10, activation='relu'))\n",
    "model.add(layers.Dropout(0.25))\n",
    "model.add(layers.Dense(3, activation='softmax'))\n",
    "model.build((None,400,400,3))\n",
    "model.compile(optimizer=Adam(learning_rate = 1e-3), loss='categorical_crossentropy', metrics=['accuracy'])\n",
    "model.summary()\n"
   ]
  },
  {
   "cell_type": "code",
   "execution_count": 9,
   "metadata": {
    "colab": {
     "base_uri": "https://localhost:8080/",
     "height": 853
    },
    "id": "OBgvMlSh4uWe",
    "outputId": "858abf2e-a079-4d4a-d48c-035032528e50"
   },
   "outputs": [
    {
     "name": "stderr",
     "output_type": "stream",
     "text": [
      "2023-01-23 22:44:14.500137: I tensorflow/compiler/mlir/mlir_graph_optimization_pass.cc:176] None of the MLIR Optimization Passes are enabled (registered 2)\n",
      "2023-01-23 22:44:14.500418: W tensorflow/core/platform/profile_utils/cpu_utils.cc:128] Failed to get CPU frequency: 0 Hz\n",
      "2023-01-23 22:44:14.668239: I tensorflow/core/grappler/optimizers/custom_graph_optimizer_registry.cc:112] Plugin optimizer for device_type GPU is enabled.\n"
     ]
    },
    {
     "name": "stdout",
     "output_type": "stream",
     "text": [
      "Epoch 1/10\n",
      "18/18 [==============================] - ETA: 0s - loss: 2.7705 - accuracy: 0.4524"
     ]
    },
    {
     "name": "stderr",
     "output_type": "stream",
     "text": [
      "2023-01-23 22:44:28.178386: I tensorflow/core/grappler/optimizers/custom_graph_optimizer_registry.cc:112] Plugin optimizer for device_type GPU is enabled.\n"
     ]
    },
    {
     "name": "stdout",
     "output_type": "stream",
     "text": [
      "18/18 [==============================] - 17s 917ms/step - loss: 2.7705 - accuracy: 0.4524 - val_loss: 0.8699 - val_accuracy: 0.6839\n",
      "Epoch 2/10\n",
      "18/18 [==============================] - 16s 893ms/step - loss: 0.7731 - accuracy: 0.7198 - val_loss: 0.7877 - val_accuracy: 0.7161\n",
      "Epoch 3/10\n",
      "18/18 [==============================] - 16s 889ms/step - loss: 0.6287 - accuracy: 0.7619 - val_loss: 0.8133 - val_accuracy: 0.6581\n",
      "Epoch 4/10\n",
      "18/18 [==============================] - 16s 905ms/step - loss: 0.4100 - accuracy: 0.8443 - val_loss: 0.7955 - val_accuracy: 0.6903\n",
      "Epoch 5/10\n",
      "18/18 [==============================] - 16s 907ms/step - loss: 0.2016 - accuracy: 0.9267 - val_loss: 0.4561 - val_accuracy: 0.8258\n",
      "Epoch 6/10\n",
      "18/18 [==============================] - 16s 900ms/step - loss: 0.1393 - accuracy: 0.9634 - val_loss: 0.6007 - val_accuracy: 0.7806\n",
      "Epoch 7/10\n",
      "18/18 [==============================] - 16s 914ms/step - loss: 0.1365 - accuracy: 0.9579 - val_loss: 0.5471 - val_accuracy: 0.7613\n",
      "Epoch 8/10\n",
      "18/18 [==============================] - 16s 896ms/step - loss: 0.0852 - accuracy: 0.9853 - val_loss: 0.4519 - val_accuracy: 0.7806\n",
      "Epoch 9/10\n",
      "18/18 [==============================] - 16s 908ms/step - loss: 0.0679 - accuracy: 0.9890 - val_loss: 0.4729 - val_accuracy: 0.8065\n",
      "Epoch 10/10\n",
      "18/18 [==============================] - 16s 889ms/step - loss: 0.0711 - accuracy: 0.9890 - val_loss: 0.5462 - val_accuracy: 0.7935\n"
     ]
    },
    {
     "data": {
      "image/png": "[encoded data removed]",
      "text/plain": [
       "<Figure size 576x576 with 1 Axes>"
      ]
     },
     "metadata": {
      "needs_background": "light"
     },
     "output_type": "display_data"
    }
   ],
   "source": [
    "results = model.fit(X_train, Y_train, epochs=10, validation_data=(X_valid, Y_valid))\n",
    "Learning_results(results)"
   ]
  },
  {
   "cell_type": "code",
   "execution_count": 10,
   "metadata": {
    "colab": {
     "base_uri": "https://localhost:8080/"
    },
    "id": "e-7LALBm4uWf",
    "outputId": "45509366-ed42-4c0b-f0e6-f2c290f840fb"
   },
   "outputs": [
    {
     "name": "stderr",
     "output_type": "stream",
     "text": [
      "2023-01-23 22:47:21.009399: I tensorflow/core/grappler/optimizers/custom_graph_optimizer_registry.cc:112] Plugin optimizer for device_type GPU is enabled.\n"
     ]
    },
    {
     "name": "stdout",
     "output_type": "stream",
     "text": [
      "Porcentaje de error: 0.14102564102564102\n"
     ]
    }
   ],
   "source": [
    "pred = model.predict(X_test)\n",
    "clasificacion_test = (np.argmax(pred,axis=1))\n",
    "referencia = np.argmax(Y_test,axis=1)\n",
    "porcent_error = np.count_nonzero(clasificacion_test-referencia)/len(clasificacion_test)\n",
    "print('Porcentaje de error: '+str(porcent_error))"
   ]
  },
  {
   "cell_type": "code",
   "execution_count": 11,
   "metadata": {
    "id": "_yqNyVYn7vEL"
   },
   "outputs": [],
   "source": [
    "# Calculamos la matriz de confusion\n",
    "\n",
    "# Tomamos las referencias\n",
    "referencia_benignos = np.where((clasificacion_test==0) | (clasificacion_test==2))\n",
    "referencia_malignos = np.where(clasificacion_test==1)\n",
    "\n",
    "# Miro cuánto vale la verdad de referencia donde la red predice que es benigno\n",
    "comparacion_benignos = referencia[referencia_benignos]\n",
    "\n",
    "# Si la referencia vale 1, la red esta detectando un falso negativo\n",
    "FN = len(np.where(comparacion_benignos==1)[0])\n",
    "\n",
    "# Si la referencia vale 0 o 2, la red esta detectando un verdadero negativo\n",
    "VN = len(comparacion_benignos)-FN\n",
    "\n",
    "\n",
    "# Miro cuánto vale la verdad de referencia donde la red predice que es benigno\n",
    "comparacion_malignos = referencia[referencia_malignos]\n",
    "\n",
    "# Si la referencia vale 1, la red esta detectando un verdadero positivo\n",
    "VP = len(np.where(comparacion_malignos==1)[0])\n",
    "\n",
    "# Si la referencia vale 0 o 2, la red esta detectando un falso positivo\n",
    "FP = len(comparacion_malignos)-VP\n",
    "\n",
    "\n",
    "Mt_confusion = np.zeros((2,2))\n",
    "# Incorporamos VP, VN, FP, FN a la matriz de confusion\n",
    "Mt_confusion[0,0] = VP\n",
    "Mt_confusion[0,1] = FP\n",
    "Mt_confusion[1,0] = FN\n",
    "Mt_confusion[1,1] = VN  \n"
   ]
  },
  {
   "cell_type": "code",
   "execution_count": 12,
   "metadata": {
    "colab": {
     "base_uri": "https://localhost:8080/"
    },
    "id": "4YQB08kRKjTc",
    "outputId": "927d4c0f-2549-4a71-b6d6-00520abb5591"
   },
   "outputs": [
    {
     "name": "stdout",
     "output_type": "stream",
     "text": [
      "Matriz de confusion: [[13.  2.]\n",
      " [ 4. 59.]]\n",
      "\n",
      "Accuracy: 0.9230769230769231\n",
      "Sensibilidad: 0.7647058823529411\n",
      "Especificidad: 0.9672131147540983\n",
      "F1 Score: 0.8125\n",
      "Valor Predictivo Positivo: 0.8666666666666667\n",
      "Valor Predictivo Negativo: 0.9365079365079365\n"
     ]
    }
   ],
   "source": [
    "# Calculamos las metricas para evaluar como de buena es la clasificacion\n",
    "metricas(Mt_confusion)"
   ]
  }
 ],
 "metadata": {
  "accelerator": "GPU",
  "colab": {
   "collapsed_sections": [],
   "name": "IAM_7.ipynb",
   "provenance": []
  },
  "kernelspec": {
   "display_name": "applemetal",
   "language": "python",
   "name": "python3"
  },
  "language_info": {
   "codemirror_mode": {
    "name": "ipython",
    "version": 3
   },
   "file_extension": ".py",
   "mimetype": "text/x-python",
   "name": "python",
   "nbconvert_exporter": "python",
   "pygments_lexer": "ipython3",
   "version": "3.9.13"
  },
  "vscode": {
   "interpreter": {
    "hash": "cb5bb2fd1c2b77d99083d6e575e6b31bc5ad312f90fe0362efda5d2353ac4208"
   }
  }
 },
 "nbformat": 4,
 "nbformat_minor": 1
}
